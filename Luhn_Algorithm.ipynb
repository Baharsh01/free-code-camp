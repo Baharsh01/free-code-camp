{
  "nbformat": 4,
  "nbformat_minor": 0,
  "metadata": {
    "colab": {
      "provenance": [],
      "authorship_tag": "ABX9TyO3V4f76ycTfSF1D1qhjCxp",
      "include_colab_link": true
    },
    "kernelspec": {
      "name": "python3",
      "display_name": "Python 3"
    },
    "language_info": {
      "name": "python"
    }
  },
  "cells": [
    {
      "cell_type": "markdown",
      "metadata": {
        "id": "view-in-github",
        "colab_type": "text"
      },
      "source": [
        "<a href=\"https://colab.research.google.com/github/Baharsh01/free-code-camp/blob/1/Luhn_Algorithm.ipynb\" target=\"_parent\"><img src=\"https://colab.research.google.com/assets/colab-badge.svg\" alt=\"Open In Colab\"/></a>"
      ]
    },
    {
      "cell_type": "code",
      "execution_count": 1,
      "metadata": {
        "id": "VxOLYsgwW3Rc",
        "colab": {
          "base_uri": "https://localhost:8080/"
        },
        "outputId": "41f4e086-3084-4c30-a0ed-bf5120a2bfed"
      },
      "outputs": [
        {
          "output_type": "stream",
          "name": "stdout",
          "text": [
            "VALID!\n"
          ]
        }
      ],
      "source": [
        "def verify_card_number(card_number):\n",
        "    sum_of_odd_digits = 0\n",
        "    card_number_reversed = card_number[::-1]\n",
        "    odd_digits = card_number_reversed[::2]\n",
        "\n",
        "    for digit in odd_digits:\n",
        "        sum_of_odd_digits += int(digit)\n",
        "\n",
        "    sum_of_even_digits = 0\n",
        "    even_digits = card_number_reversed[1::2]\n",
        "    for digit in even_digits:\n",
        "        number = int(digit) * 2\n",
        "        if number >= 10:\n",
        "            number = (number // 10) + (number % 10)\n",
        "        sum_of_even_digits += number\n",
        "    total = sum_of_odd_digits + sum_of_even_digits\n",
        "    return total % 10 == 0\n",
        "\n",
        "def main():\n",
        "    card_number = '9111-1111-4555-1141'\n",
        "    card_translation = str.maketrans({'-': '', ' ': ''})\n",
        "    translated_card_number = card_number.translate(card_translation)\n",
        "\n",
        "    if verify_card_number(translated_card_number):\n",
        "        print('VALID!')\n",
        "    else:\n",
        "        print('INVALID!')\n",
        "\n",
        "main()"
      ]
    }
  ]
}