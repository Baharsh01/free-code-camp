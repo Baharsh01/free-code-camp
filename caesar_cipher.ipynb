{
  "nbformat": 4,
  "nbformat_minor": 0,
  "metadata": {
    "colab": {
      "provenance": [],
      "authorship_tag": "ABX9TyNyIrh5WE/kikUVPbdARBME",
      "include_colab_link": true
    },
    "kernelspec": {
      "name": "python3",
      "display_name": "Python 3"
    },
    "language_info": {
      "name": "python"
    }
  },
  "cells": [
    {
      "cell_type": "markdown",
      "metadata": {
        "id": "view-in-github",
        "colab_type": "text"
      },
      "source": [
        "<a href=\"https://colab.research.google.com/github/Baharsh01/free-code-camp/blob/1/caesar_cipher.ipynb\" target=\"_parent\"><img src=\"https://colab.research.google.com/assets/colab-badge.svg\" alt=\"Open In Colab\"/></a>"
      ]
    },
    {
      "cell_type": "code",
      "execution_count": null,
      "metadata": {
        "colab": {
          "base_uri": "https://localhost:8080/"
        },
        "id": "TKznxgfvZToB",
        "outputId": "d5888e83-a63d-48e8-b13d-73f4f4a609bc"
      },
      "outputs": [
        {
          "output_type": "stream",
          "name": "stdout",
          "text": [
            "khoor zruog\n"
          ]
        }
      ],
      "source": [
        "# my code\n",
        "text = 'Hello World'\n",
        "text = text.lower()\n",
        "shift = 3\n",
        "alphabet = 'abcdefghijklmnopqrstuvwxyz'\n",
        "res = ''\n",
        "for i in text:\n",
        "  if i in alphabet:\n",
        "    a = alphabet.find(i) + shift\n",
        "    b = alphabet[a]\n",
        "    res = res + b\n",
        "  else:\n",
        "    res += i\n",
        "text = res\n",
        "print(text)"
      ]
    },
    {
      "cell_type": "code",
      "source": [
        "# free code camp code\n",
        "text = 'Hello Zaira'\n",
        "shift = 3\n",
        "def caesar(message, offset):\n",
        "    alphabet = 'abcdefghijklmnopqrstuvwxyz'\n",
        "    encrypted_text = ''\n",
        "\n",
        "    for char in message.lower():\n",
        "        if char == ' ':\n",
        "            encrypted_text += char\n",
        "        else:\n",
        "            index = alphabet.find(char)\n",
        "            new_index = (index + offset) % len(alphabet)\n",
        "            encrypted_text += alphabet[new_index]\n",
        "    print('plain text:', message)\n",
        "    print('encrypted text:', encrypted_text)\n",
        "caesar(text,shift)"
      ],
      "metadata": {
        "id": "6c-CEkrFLfLK",
        "colab": {
          "base_uri": "https://localhost:8080/"
        },
        "outputId": "0672ad4f-725f-40c6-850e-fbd667710880"
      },
      "execution_count": 3,
      "outputs": [
        {
          "output_type": "stream",
          "name": "stdout",
          "text": [
            "plain text: Hello Zaira\n",
            "encrypted text: khoor cdlud\n"
          ]
        }
      ]
    }
  ]
}