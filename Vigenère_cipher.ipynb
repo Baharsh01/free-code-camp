{
  "nbformat": 4,
  "nbformat_minor": 0,
  "metadata": {
    "colab": {
      "provenance": [],
      "authorship_tag": "ABX9TyMsicv1uL+6dcycZKm21PWm",
      "include_colab_link": true
    },
    "kernelspec": {
      "name": "python3",
      "display_name": "Python 3"
    },
    "language_info": {
      "name": "python"
    }
  },
  "cells": [
    {
      "cell_type": "markdown",
      "metadata": {
        "id": "view-in-github",
        "colab_type": "text"
      },
      "source": [
        "<a href=\"https://colab.research.google.com/github/Baharsh01/free-code-camp/blob/1/Vigen%C3%A8re_cipher.ipynb\" target=\"_parent\"><img src=\"https://colab.research.google.com/assets/colab-badge.svg\" alt=\"Open In Colab\"/></a>"
      ]
    },
    {
      "cell_type": "code",
      "execution_count": null,
      "metadata": {
        "colab": {
          "base_uri": "https://localhost:8080/"
        },
        "id": "TKznxgfvZToB",
        "outputId": "c29b96b0-c1c1-4ceb-fd97-8f60939b3f64"
      },
      "outputs": [
        {
          "output_type": "stream",
          "name": "stdout",
          "text": [
            "Hello World\n",
            "oiwwc sciwg\n"
          ]
        }
      ],
      "source": [
        "# my code\n",
        "def vigenere(message):\n",
        "    alphabet = 'abcdefghijklmnopqrstuvwxyz'\n",
        "    encrypted_text = ''\n",
        "    for char in message.lower():\n",
        "      if char == \" \":\n",
        "        encrypted_text += char\n",
        "      else:\n",
        "        index = alphabet.find(char)\n",
        "        new_index = (index + index) % len(alphabet)\n",
        "        encrypted_text += alphabet[new_index]\n",
        "    print(message)\n",
        "    print(encrypted_text)\n",
        "text = \"Hello World\"\n",
        "vigenere(text)"
      ]
    },
    {
      "cell_type": "code",
      "source": [
        "# my code\n",
        "# def vigenere(message, key):\n",
        "#     alphabet = 'abcdefghijklmnopqrstuvwxyz'\n",
        "#     encrypted_text = ''\n",
        "#     for char in message.lower():\n",
        "#       if char == \" \":\n",
        "#         encrypted_text += char\n",
        "#       else:\n",
        "#         for i in key.lower():\n",
        "#            k_index = alphabet.find(i)\n",
        "#            m_index = alphabet.find(char)\n",
        "#            new_index = (m_index + ((k_index)% len(key))) % len(alphabet)\n",
        "#            encrypted_text += alphabet[new_index]\n",
        "#     print(message)\n",
        "#     print(encrypted_text)\n",
        "# text = \"H\"\n",
        "# key = 'Bahar'\n",
        "# vigenere(text,key)"
      ],
      "metadata": {
        "colab": {
          "base_uri": "https://localhost:8080/"
        },
        "id": "-njiwZhQOLr1",
        "outputId": "45b99a0d-2d68-4a94-97ec-c2c0becec7d3"
      },
      "execution_count": null,
      "outputs": [
        {
          "output_type": "stream",
          "name": "stdout",
          "text": [
            "H\n",
            "ihjhj\n"
          ]
        }
      ]
    },
    {
      "cell_type": "code",
      "source": [
        "# free code camp code\n",
        "text = 'mrttaqrhknsw ih puggrur'\n",
        "custom_key = 'happycoding'\n",
        "\n",
        "def vigenere(message, key, direction=1):\n",
        "    key_index = 0\n",
        "    alphabet = 'abcdefghijklmnopqrstuvwxyz'\n",
        "    final_message = ''\n",
        "\n",
        "    for char in message.lower():\n",
        "\n",
        "        # Append any non-letter character to the message\n",
        "        if not char.isalpha():\n",
        "            final_message += char\n",
        "        else:\n",
        "            # Find the right key character to encode/decode\n",
        "            key_char = key[key_index % len(key)]\n",
        "            key_index += 1\n",
        "\n",
        "            # Define the offset and the encrypted/decrypted letter\n",
        "            offset = alphabet.index(key_char)\n",
        "            index = alphabet.find(char)\n",
        "            new_index = (index + offset*direction) % len(alphabet)\n",
        "            final_message += alphabet[new_index]\n",
        "\n",
        "    return final_message\n",
        "\n",
        "def encrypt(message, key):\n",
        "    return vigenere(message, key)\n",
        "\n",
        "def decrypt(message, key):\n",
        "    return vigenere(message, key, -1)\n",
        "\n",
        "print(f'\\nEncrypted text: {text}')\n",
        "print(f'Key: {custom_key}')\n",
        "decryption = decrypt(text, custom_key)\n",
        "print(f'\\nDecrypted text: {decryption}\\n')"
      ],
      "metadata": {
        "id": "6c-CEkrFLfLK",
        "colab": {
          "base_uri": "https://localhost:8080/"
        },
        "outputId": "0672ad4f-725f-40c6-850e-fbd667710880"
      },
      "execution_count": null,
      "outputs": [
        {
          "output_type": "stream",
          "name": "stdout",
          "text": [
            "plain text: Hello Zaira\n",
            "encrypted text: khoor cdlud\n"
          ]
        }
      ]
    }
  ]
}