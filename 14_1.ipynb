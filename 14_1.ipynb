{
  "nbformat": 4,
  "nbformat_minor": 0,
  "metadata": {
    "colab": {
      "provenance": [],
      "authorship_tag": "ABX9TyMti6Qob+aP0YO48oQoerT8",
      "include_colab_link": true
    },
    "kernelspec": {
      "name": "python3",
      "display_name": "Python 3"
    },
    "language_info": {
      "name": "python"
    }
  },
  "cells": [
    {
      "cell_type": "markdown",
      "metadata": {
        "id": "view-in-github",
        "colab_type": "text"
      },
      "source": [
        "<a href=\"https://colab.research.google.com/github/Baharsh01/free-code-camp/blob/1/14_1.ipynb\" target=\"_parent\"><img src=\"https://colab.research.google.com/assets/colab-badge.svg\" alt=\"Open In Colab\"/></a>"
      ]
    },
    {
      "cell_type": "code",
      "execution_count": 1,
      "metadata": {
        "colab": {
          "base_uri": "https://localhost:8080/"
        },
        "id": "TKznxgfvZToB",
        "outputId": "748ea3bf-4909-409c-9aa9-094f5b3a679f"
      },
      "outputs": [
        {
          "output_type": "stream",
          "name": "stdout",
          "text": [
            "khoor zruog\n"
          ]
        }
      ],
      "source": [
        "text = 'Hello World'\n",
        "text = text.lower()\n",
        "shift = 3\n",
        "alphabet = 'abcdefghijklmnopqrstuvwxyz'\n",
        "res = ''\n",
        "for i in text:\n",
        "  if i in alphabet:\n",
        "    a = alphabet.find(i) + shift\n",
        "    b = alphabet[a]\n",
        "    res = res + b\n",
        "  else:\n",
        "    res += i\n",
        "text = res\n",
        "print(text)"
      ]
    },
    {
      "cell_type": "code",
      "source": [],
      "metadata": {
        "id": "6c-CEkrFLfLK"
      },
      "execution_count": null,
      "outputs": []
    }
  ]
}